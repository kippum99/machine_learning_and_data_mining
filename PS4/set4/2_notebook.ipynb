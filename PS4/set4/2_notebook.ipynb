{
 "cells": [
  {
   "cell_type": "code",
   "execution_count": 1,
   "metadata": {},
   "outputs": [
    {
     "name": "stderr",
     "output_type": "stream",
     "text": [
      "Using TensorFlow backend.\n"
     ]
    }
   ],
   "source": [
    "import numpy as np \n",
    "import tensorflow as tf \n",
    "import keras\n",
    "import matplotlib.pyplot as plt\n",
    "from keras.models import Sequential\n",
    "from keras.layers.core import Dense, Activation, Dropout"
   ]
  },
  {
   "cell_type": "code",
   "execution_count": 2,
   "metadata": {},
   "outputs": [
    {
     "name": "stdout",
     "output_type": "stream",
     "text": [
      "Shape of training input matrix: (60000, 28, 28)\n"
     ]
    },
    {
     "data": {
      "image/png": "[encoded data removed]",
      "text/plain": [
       "<Figure size 432x288 with 1 Axes>"
      ]
     },
     "metadata": {
      "needs_background": "light"
     },
     "output_type": "display_data"
    }
   ],
   "source": [
    "# Problem B\n",
    "\n",
    "from keras.datasets import mnist\n",
    "(X_train, y_train), (X_test, y_test) = mnist.load_data()\n",
    "\n",
    "print('Shape of training input matrix: ' + str(X_train.shape))\n",
    "plt.imshow(X_train[0], cmap=plt.get_cmap('gray'))\n",
    "plt.show()"
   ]
  },
  {
   "cell_type": "code",
   "execution_count": 3,
   "metadata": {},
   "outputs": [],
   "source": [
    "# Problem C\n",
    "\n",
    "y_train = keras.utils.np_utils.to_categorical(y_train)\n",
    "y_test = keras.utils.np_utils.to_categorical(y_test)\n",
    "X_train = np.reshape(X_train, (len(X_train), 28 * 28, ))\n",
    "X_test = np.reshape(X_test, (len(X_test), 28 * 28, ))"
   ]
  },
  {
   "cell_type": "code",
   "execution_count": 4,
   "metadata": {},
   "outputs": [],
   "source": [
    "# Normalize the input vectors\n",
    "X_train = X_train / 255\n",
    "X_test = X_test / 255"
   ]
  },
  {
   "cell_type": "code",
   "execution_count": 5,
   "metadata": {},
   "outputs": [
    {
     "name": "stdout",
     "output_type": "stream",
     "text": [
      "Epoch 1/20\n",
      "60000/60000 [==============================] - 4s 59us/step - loss: 0.5832 - acc: 0.8334\n",
      "Epoch 2/20\n",
      "60000/60000 [==============================] - 3s 42us/step - loss: 0.2463 - acc: 0.9286\n",
      "Epoch 3/20\n",
      "60000/60000 [==============================] - 2s 40us/step - loss: 0.1927 - acc: 0.9439\n",
      "Epoch 4/20\n",
      "60000/60000 [==============================] - 2s 41us/step - loss: 0.1618 - acc: 0.9518\n",
      "Epoch 5/20\n",
      "60000/60000 [==============================] - 2s 41us/step - loss: 0.1384 - acc: 0.9585\n",
      "Epoch 6/20\n",
      "60000/60000 [==============================] - 2s 40us/step - loss: 0.1243 - acc: 0.9629\n",
      "Epoch 7/20\n",
      "60000/60000 [==============================] - 3s 44us/step - loss: 0.1118 - acc: 0.9666\n",
      "Epoch 8/20\n",
      "60000/60000 [==============================] - 3s 42us/step - loss: 0.1027 - acc: 0.9680\n",
      "Epoch 9/20\n",
      "60000/60000 [==============================] - 3s 46us/step - loss: 0.0932 - acc: 0.9718\n",
      "Epoch 10/20\n",
      "60000/60000 [==============================] - 3s 49us/step - loss: 0.0853 - acc: 0.9731\n",
      "Epoch 11/20\n",
      "60000/60000 [==============================] - 3s 51us/step - loss: 0.0791 - acc: 0.9749\n",
      "Epoch 12/20\n",
      "60000/60000 [==============================] - 2s 38us/step - loss: 0.0751 - acc: 0.9765\n",
      "Epoch 13/20\n",
      "60000/60000 [==============================] - 3s 46us/step - loss: 0.0696 - acc: 0.9773\n",
      "Epoch 14/20\n",
      "60000/60000 [==============================] - 3s 47us/step - loss: 0.0658 - acc: 0.9785\n",
      "Epoch 15/20\n",
      "60000/60000 [==============================] - 3s 48us/step - loss: 0.0610 - acc: 0.9802\n",
      "Epoch 16/20\n",
      "60000/60000 [==============================] - 3s 42us/step - loss: 0.0586 - acc: 0.9814\n",
      "Epoch 17/20\n",
      "60000/60000 [==============================] - 3s 43us/step - loss: 0.0579 - acc: 0.9814\n",
      "Epoch 18/20\n",
      "60000/60000 [==============================] - 3s 43us/step - loss: 0.0539 - acc: 0.9820\n",
      "Epoch 19/20\n",
      "60000/60000 [==============================] - 3s 44us/step - loss: 0.0521 - acc: 0.9832\n",
      "Epoch 20/20\n",
      "60000/60000 [==============================] - 3s 43us/step - loss: 0.0479 - acc: 0.9849\n",
      "Test score: 0.07955438452860399\n",
      "Test accuracy: 0.9764\n"
     ]
    }
   ],
   "source": [
    "# Problem D\n",
    "\n",
    "# Create a model\n",
    "model = Sequential()\n",
    "model.add(Dense(60, activation='relu', input_shape=(784, )))\n",
    "model.add(Dropout(0.1))\n",
    "model.add(Dense(40, activation='relu'))\n",
    "model.add(Dense(10, activation='softmax'))\n",
    "model.compile(loss='categorical_crossentropy', optimizer='adam', metrics=['accuracy'])\n",
    "\n",
    "# Train the model\n",
    "fit = model.fit(X_train, y_train, epochs=20, batch_size=256, verbose=1)\n",
    "\n",
    "# Print accuracy of the model\n",
    "score = model.evaluate(X_test, y_test, verbose=0)\n",
    "print('Test score:', score[0])\n",
    "print('Test accuracy:', score[1])"
   ]
  },
  {
   "cell_type": "code",
   "execution_count": 8,
   "metadata": {},
   "outputs": [
    {
     "name": "stdout",
     "output_type": "stream",
     "text": [
      "Epoch 1/20\n",
      "60000/60000 [==============================] - 5s 81us/step - loss: 0.5210 - acc: 0.8458\n",
      "Epoch 2/20\n",
      "60000/60000 [==============================] - 4s 64us/step - loss: 0.2179 - acc: 0.9362\n",
      "Epoch 3/20\n",
      "60000/60000 [==============================] - 4s 66us/step - loss: 0.1645 - acc: 0.9499\n",
      "Epoch 4/20\n",
      "60000/60000 [==============================] - 4s 59us/step - loss: 0.1330 - acc: 0.9604\n",
      "Epoch 5/20\n",
      "60000/60000 [==============================] - 4s 63us/step - loss: 0.1113 - acc: 0.9659\n",
      "Epoch 6/20\n",
      "60000/60000 [==============================] - 5s 78us/step - loss: 0.0986 - acc: 0.9704\n",
      "Epoch 7/20\n",
      "60000/60000 [==============================] - 4s 64us/step - loss: 0.0859 - acc: 0.9737\n",
      "Epoch 8/20\n",
      "60000/60000 [==============================] - 4s 60us/step - loss: 0.0802 - acc: 0.9749\n",
      "Epoch 9/20\n",
      "60000/60000 [==============================] - 4s 60us/step - loss: 0.0717 - acc: 0.9777\n",
      "Epoch 10/20\n",
      "60000/60000 [==============================] - 4s 60us/step - loss: 0.0661 - acc: 0.9790\n",
      "Epoch 11/20\n",
      "60000/60000 [==============================] - 4s 60us/step - loss: 0.0582 - acc: 0.9823\n",
      "Epoch 12/20\n",
      "60000/60000 [==============================] - 4s 64us/step - loss: 0.0572 - acc: 0.9811\n",
      "Epoch 13/20\n",
      "60000/60000 [==============================] - 4s 61us/step - loss: 0.0546 - acc: 0.9823\n",
      "Epoch 14/20\n",
      "60000/60000 [==============================] - 4s 61us/step - loss: 0.0500 - acc: 0.9838\n",
      "Epoch 15/20\n",
      "60000/60000 [==============================] - 7s 110us/step - loss: 0.0470 - acc: 0.9843\n",
      "Epoch 16/20\n",
      "60000/60000 [==============================] - 5s 80us/step - loss: 0.0454 - acc: 0.9855\n",
      "Epoch 17/20\n",
      "60000/60000 [==============================] - 4s 72us/step - loss: 0.0420 - acc: 0.9860\n",
      "Epoch 18/20\n",
      "60000/60000 [==============================] - 4s 68us/step - loss: 0.0403 - acc: 0.9868\n",
      "Epoch 19/20\n",
      "60000/60000 [==============================] - 4s 68us/step - loss: 0.0378 - acc: 0.9877\n",
      "Epoch 20/20\n",
      "60000/60000 [==============================] - 4s 68us/step - loss: 0.0362 - acc: 0.9881\n",
      "Test score: 0.06497625442128774\n",
      "Test accuracy: 0.982\n"
     ]
    }
   ],
   "source": [
    "# Problem E\n",
    "\n",
    "# Create a model\n",
    "model = Sequential()\n",
    "model.add(Dense(120, activation='relu', input_shape=(784, )))\n",
    "model.add(Dropout(0.2))\n",
    "model.add(Dense(80, activation='relu'))\n",
    "model.add(Dropout(0.1))\n",
    "model.add(Dense(10, activation='softmax'))\n",
    "model.compile(loss='categorical_crossentropy', optimizer='adam', metrics=['accuracy'])\n",
    "\n",
    "# Train the model\n",
    "fit = model.fit(X_train, y_train, epochs=20, batch_size=256, verbose=1)\n",
    "\n",
    "# Print accuracy of the model\n",
    "score = model.evaluate(X_test, y_test, verbose=0)\n",
    "print('Test score:', score[0])\n",
    "print('Test accuracy:', score[1])"
   ]
  },
  {
   "cell_type": "code",
   "execution_count": 11,
   "metadata": {},
   "outputs": [
    {
     "name": "stdout",
     "output_type": "stream",
     "text": [
      "Epoch 1/20\n",
      "60000/60000 [==============================] - 12s 205us/step - loss: 0.4430 - acc: 0.8616\n",
      "Epoch 2/20\n",
      "60000/60000 [==============================] - 10s 173us/step - loss: 0.1864 - acc: 0.9441\n",
      "Epoch 3/20\n",
      "60000/60000 [==============================] - 10s 173us/step - loss: 0.1438 - acc: 0.9563\n",
      "Epoch 4/20\n",
      "60000/60000 [==============================] - 10s 174us/step - loss: 0.1247 - acc: 0.9618\n",
      "Epoch 5/20\n",
      "60000/60000 [==============================] - 14s 237us/step - loss: 0.1083 - acc: 0.9666\n",
      "Epoch 6/20\n",
      "60000/60000 [==============================] - 12s 200us/step - loss: 0.0952 - acc: 0.9696\n",
      "Epoch 7/20\n",
      "60000/60000 [==============================] - 12s 200us/step - loss: 0.0864 - acc: 0.9732\n",
      "Epoch 8/20\n",
      "60000/60000 [==============================] - 12s 195us/step - loss: 0.0818 - acc: 0.9738\n",
      "Epoch 9/20\n",
      "60000/60000 [==============================] - 11s 181us/step - loss: 0.0778 - acc: 0.9754\n",
      "Epoch 10/20\n",
      "60000/60000 [==============================] - 11s 181us/step - loss: 0.0708 - acc: 0.9775\n",
      "Epoch 11/20\n",
      "60000/60000 [==============================] - 11s 179us/step - loss: 0.0674 - acc: 0.9792\n",
      "Epoch 12/20\n",
      "60000/60000 [==============================] - 11s 179us/step - loss: 0.0636 - acc: 0.9800\n",
      "Epoch 13/20\n",
      "60000/60000 [==============================] - 10s 171us/step - loss: 0.0604 - acc: 0.9807\n",
      "Epoch 14/20\n",
      "60000/60000 [==============================] - 11s 176us/step - loss: 0.0559 - acc: 0.9820\n",
      "Epoch 15/20\n",
      "60000/60000 [==============================] - 11s 183us/step - loss: 0.0535 - acc: 0.9831\n",
      "Epoch 16/20\n",
      "60000/60000 [==============================] - 12s 204us/step - loss: 0.0524 - acc: 0.9829\n",
      "Epoch 17/20\n",
      "60000/60000 [==============================] - 11s 182us/step - loss: 0.0510 - acc: 0.9842\n",
      "Epoch 18/20\n",
      "60000/60000 [==============================] - 11s 185us/step - loss: 0.0471 - acc: 0.9844\n",
      "Epoch 19/20\n",
      "60000/60000 [==============================] - 11s 187us/step - loss: 0.0478 - acc: 0.9842\n",
      "Epoch 20/20\n",
      "60000/60000 [==============================] - 11s 185us/step - loss: 0.0469 - acc: 0.9851\n",
      "Test score: 0.06377804316383917\n",
      "Test accuracy: 0.9843\n"
     ]
    }
   ],
   "source": [
    "# Problem F\n",
    "\n",
    "# Create a model\n",
    "model = Sequential()\n",
    "model.add(Dense(400, activation='relu', input_shape=(784, )))\n",
    "model.add(Dropout(0.5))\n",
    "model.add(Dense(400, activation='relu'))\n",
    "model.add(Dropout(0.3))\n",
    "model.add(Dense(100, activation='relu'))\n",
    "model.add(Dropout(0.1))\n",
    "model.add(Dense(10, activation='softmax'))\n",
    "model.compile(loss='categorical_crossentropy', optimizer='adam', metrics=['accuracy'])\n",
    "\n",
    "# Train the model\n",
    "fit = model.fit(X_train, y_train, epochs=20, batch_size=256, verbose=1)\n",
    "\n",
    "# Print accuracy of the model\n",
    "score = model.evaluate(X_test, y_test, verbose=0)\n",
    "print('Test score:', score[0])\n",
    "print('Test accuracy:', score[1])"
   ]
  },
  {
   "cell_type": "code",
   "execution_count": null,
   "metadata": {},
   "outputs": [],
   "source": []
  }
 ],
 "metadata": {
  "kernelspec": {
   "display_name": "Python 3",
   "language": "python",
   "name": "python3"
  },
  "language_info": {
   "codemirror_mode": {
    "name": "ipython",
    "version": 3
   },
   "file_extension": ".py",
   "mimetype": "text/x-python",
   "name": "python",
   "nbconvert_exporter": "python",
   "pygments_lexer": "ipython3",
   "version": "3.6.8"
  }
 },
 "nbformat": 4,
 "nbformat_minor": 2
}
