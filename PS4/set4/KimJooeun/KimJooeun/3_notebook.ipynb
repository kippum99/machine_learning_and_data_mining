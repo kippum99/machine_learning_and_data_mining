{
 "cells": [
  {
   "cell_type": "markdown",
   "metadata": {},
   "source": [
    "# Problem 3"
   ]
  },
  {
   "cell_type": "markdown",
   "metadata": {},
   "source": [
    "Use this notebook to write your code for problem 3."
   ]
  },
  {
   "cell_type": "code",
   "execution_count": 2,
   "metadata": {},
   "outputs": [],
   "source": [
    "import numpy as np\n",
    "import matplotlib.pyplot as plt\n",
    "%matplotlib inline"
   ]
  },
  {
   "cell_type": "markdown",
   "metadata": {},
   "source": [
    "## 3D - Convolutional network"
   ]
  },
  {
   "cell_type": "markdown",
   "metadata": {},
   "source": [
    "As in problem 2, we have conveniently provided for your use code that loads, preprocesses, and deals with the uglies of the MNIST data."
   ]
  },
  {
   "cell_type": "code",
   "execution_count": 3,
   "metadata": {},
   "outputs": [
    {
     "name": "stderr",
     "output_type": "stream",
     "text": [
      "Using TensorFlow backend.\n"
     ]
    }
   ],
   "source": [
    "# load MNIST data into Keras format\n",
    "import keras\n",
    "from keras.datasets import mnist\n",
    "\n",
    "(x_train, y_train), (x_test, y_test) = mnist.load_data()"
   ]
  },
  {
   "cell_type": "code",
   "execution_count": 4,
   "metadata": {},
   "outputs": [
    {
     "name": "stdout",
     "output_type": "stream",
     "text": [
      "(60000, 28, 28)\n",
      "(10000, 28, 28)\n"
     ]
    }
   ],
   "source": [
    "# look at the shapes\n",
    "print(x_train.shape)\n",
    "print(x_test.shape)"
   ]
  },
  {
   "cell_type": "code",
   "execution_count": 5,
   "metadata": {},
   "outputs": [],
   "source": [
    "# we'll need to one-hot encode the labels\n",
    "y_train = keras.utils.np_utils.to_categorical(y_train)\n",
    "y_test = keras.utils.np_utils.to_categorical(y_test)"
   ]
  },
  {
   "cell_type": "code",
   "execution_count": 6,
   "metadata": {},
   "outputs": [],
   "source": [
    "# don't forget to NORMALIZE\n",
    "x_train = np.divide(x_train, 255)\n",
    "x_test = np.divide(x_test, 255)"
   ]
  },
  {
   "cell_type": "code",
   "execution_count": 7,
   "metadata": {},
   "outputs": [],
   "source": [
    "# we must reshape the X data (add a channel dimension)\n",
    "x_train = x_train.reshape(tuple(list(x_train.shape) + [1]))\n",
    "x_test = x_test.reshape(tuple(list(x_test.shape) + [1]))"
   ]
  },
  {
   "cell_type": "code",
   "execution_count": 8,
   "metadata": {},
   "outputs": [
    {
     "name": "stdout",
     "output_type": "stream",
     "text": [
      "(60000, 28, 28, 1)\n",
      "(10000, 28, 28, 1)\n"
     ]
    }
   ],
   "source": [
    "# look at the shapes\n",
    "print(x_train.shape)\n",
    "print(x_test.shape)"
   ]
  },
  {
   "cell_type": "code",
   "execution_count": 42,
   "metadata": {},
   "outputs": [
    {
     "name": "stdout",
     "output_type": "stream",
     "text": [
      "Train on 60000 samples, validate on 10000 samples\n",
      "Epoch 1/1\n",
      "60000/60000 [==============================] - 30s 506us/step - loss: 0.1817 - acc: 0.9441 - val_loss: 0.0616 - val_acc: 0.9806\n",
      "Train on 60000 samples, validate on 10000 samples\n",
      "Epoch 1/1\n",
      "60000/60000 [==============================] - 44s 729us/step - loss: 0.2609 - acc: 0.9160 - val_loss: 0.0767 - val_acc: 0.9758\n",
      "Train on 60000 samples, validate on 10000 samples\n",
      "Epoch 1/1\n",
      "60000/60000 [==============================] - 45s 743us/step - loss: 0.3246 - acc: 0.8954 - val_loss: 0.0836 - val_acc: 0.9719\n",
      "Train on 60000 samples, validate on 10000 samples\n",
      "Epoch 1/1\n",
      "60000/60000 [==============================] - 50s 831us/step - loss: 0.4258 - acc: 0.8631 - val_loss: 0.1112 - val_acc: 0.9679\n",
      "Train on 60000 samples, validate on 10000 samples\n",
      "Epoch 1/1\n",
      "60000/60000 [==============================] - 50s 839us/step - loss: 0.4948 - acc: 0.8399 - val_loss: 0.1093 - val_acc: 0.9674\n",
      "Train on 60000 samples, validate on 10000 samples\n",
      "Epoch 1/1\n",
      "60000/60000 [==============================] - 45s 745us/step - loss: 0.6624 - acc: 0.7815 - val_loss: 0.1631 - val_acc: 0.9592\n",
      "Train on 60000 samples, validate on 10000 samples\n",
      "Epoch 1/1\n",
      "60000/60000 [==============================] - 45s 742us/step - loss: 0.9110 - acc: 0.6969 - val_loss: 0.2363 - val_acc: 0.9468\n",
      "Train on 60000 samples, validate on 10000 samples\n",
      "Epoch 1/1\n",
      "60000/60000 [==============================] - 41s 689us/step - loss: 1.3137 - acc: 0.5652 - val_loss: 0.4953 - val_acc: 0.9059\n",
      "Train on 60000 samples, validate on 10000 samples\n",
      "Epoch 1/1\n",
      "60000/60000 [==============================] - 46s 769us/step - loss: 1.8102 - acc: 0.3865 - val_loss: 0.8994 - val_acc: 0.8795\n",
      "Train on 60000 samples, validate on 10000 samples\n",
      "Epoch 1/1\n",
      "60000/60000 [==============================] - 47s 790us/step - loss: 2.8049 - acc: 0.1824 - val_loss: 2.3176 - val_acc: 0.1135\n"
     ]
    }
   ],
   "source": [
    "from keras.models import Sequential\n",
    "from keras.layers import Dense, Activation, Dropout\n",
    "from keras.layers import Conv2D, MaxPooling2D, Flatten, BatchNormalization\n",
    "from keras import regularizers\n",
    "\n",
    "# Test effects of different probabilities of dropout with 1 epoch\n",
    "drop_prob = [i * 0.1 for i in range(10)]\n",
    "\n",
    "for d in drop_prob:\n",
    "    model = Sequential()\n",
    "    model.add(Conv2D(8, (3, 3), padding='same',\n",
    "                     input_shape=(28, 28, 1)))\n",
    "    model.add(BatchNormalization())\n",
    "    model.add(Activation('relu'))\n",
    "    model.add(MaxPooling2D(pool_size=(2, 2)))\n",
    "    model.add(Dropout(d))\n",
    "\n",
    "    model.add(Conv2D(8, (3, 3), padding='same'))\n",
    "    model.add(Activation('relu'))\n",
    "    model.add(MaxPooling2D(pool_size=(2, 2)))\n",
    "    model.add(Dropout(d))\n",
    "\n",
    "    model.add(Flatten())\n",
    "    model.add(Dense(64))\n",
    "    model.add(Activation('relu'))\n",
    "    model.add(Dense(10))\n",
    "    model.add(Activation('softmax'))\n",
    "    \n",
    "    model.compile(optimizer='adam',\n",
    "              loss='categorical_crossentropy',\n",
    "              metrics=['accuracy'])\n",
    "    \n",
    "    # Train the model, iterating on the data in batches of 32 samples\n",
    "    history = model.fit(x_train, y_train, epochs=1, batch_size=32,\n",
    "                    validation_data=(x_test, y_test))"
   ]
  },
  {
   "cell_type": "code",
   "execution_count": 44,
   "metadata": {},
   "outputs": [
    {
     "name": "stdout",
     "output_type": "stream",
     "text": [
      "Train on 60000 samples, validate on 10000 samples\n",
      "Epoch 1/10\n",
      "60000/60000 [==============================] - 49s 820us/step - loss: 0.2369 - acc: 0.9253 - val_loss: 0.0739 - val_acc: 0.9783\n",
      "Epoch 2/10\n",
      "60000/60000 [==============================] - 41s 680us/step - loss: 0.0895 - acc: 0.9714 - val_loss: 0.0550 - val_acc: 0.9825\n",
      "Epoch 3/10\n",
      "60000/60000 [==============================] - 43s 711us/step - loss: 0.0692 - acc: 0.9780 - val_loss: 0.0496 - val_acc: 0.9835\n",
      "Epoch 4/10\n",
      "60000/60000 [==============================] - 44s 729us/step - loss: 0.0606 - acc: 0.9806 - val_loss: 0.0422 - val_acc: 0.9857\n",
      "Epoch 5/10\n",
      "60000/60000 [==============================] - 46s 769us/step - loss: 0.0514 - acc: 0.9831 - val_loss: 0.0360 - val_acc: 0.9875\n",
      "Epoch 6/10\n",
      "60000/60000 [==============================] - 42s 697us/step - loss: 0.0453 - acc: 0.9856 - val_loss: 0.0330 - val_acc: 0.9887\n",
      "Epoch 7/10\n",
      "60000/60000 [==============================] - 39s 649us/step - loss: 0.0423 - acc: 0.9866 - val_loss: 0.0376 - val_acc: 0.9872\n",
      "Epoch 8/10\n",
      "60000/60000 [==============================] - 39s 653us/step - loss: 0.0376 - acc: 0.9873 - val_loss: 0.0321 - val_acc: 0.9900\n",
      "Epoch 9/10\n",
      "60000/60000 [==============================] - 39s 654us/step - loss: 0.0352 - acc: 0.9885 - val_loss: 0.0323 - val_acc: 0.9894\n",
      "Epoch 10/10\n",
      "60000/60000 [==============================] - 40s 663us/step - loss: 0.0340 - acc: 0.9886 - val_loss: 0.0291 - val_acc: 0.9914\n"
     ]
    }
   ],
   "source": [
    "# Final model using dropout probability = 0.1 and 10 epochs\n",
    "\n",
    "model = Sequential()\n",
    "model.add(Conv2D(8, (3, 3), padding='same',\n",
    "                 input_shape=(28, 28, 1)))\n",
    "model.add(BatchNormalization())\n",
    "model.add(Activation('relu'))\n",
    "model.add(MaxPooling2D(pool_size=(2, 2)))\n",
    "model.add(Dropout(0.1))\n",
    "\n",
    "model.add(Conv2D(8, (3, 3), padding='same'))\n",
    "model.add(BatchNormalization())\n",
    "model.add(Activation('relu'))\n",
    "model.add(MaxPooling2D(pool_size=(2, 2)))\n",
    "model.add(Dropout(0.1))\n",
    "\n",
    "model.add(Flatten())\n",
    "model.add(Dense(64))\n",
    "model.add(Activation('relu'))\n",
    "model.add(Dense(10))\n",
    "model.add(Activation('softmax'))\n",
    "\n",
    "model.compile(optimizer='adam',\n",
    "          loss='categorical_crossentropy',\n",
    "          metrics=['accuracy'])\n",
    "\n",
    "# Train the model, iterating on the data in batches of 32 samples\n",
    "history = model.fit(x_train, y_train, epochs=10, batch_size=32,\n",
    "                validation_data=(x_test, y_test))"
   ]
  },
  {
   "cell_type": "code",
   "execution_count": 36,
   "metadata": {},
   "outputs": [
    {
     "name": "stdout",
     "output_type": "stream",
     "text": [
      "<keras.layers.convolutional.Conv2D object at 0xb51611e10>\n",
      "(None, 28, 28, 8)\n",
      "<keras.layers.normalization.BatchNormalization object at 0xb51611dd8>\n",
      "(None, 28, 28, 8)\n",
      "<keras.layers.core.Activation object at 0xb5154b2e8>\n",
      "(None, 28, 28, 8)\n",
      "<keras.layers.pooling.MaxPooling2D object at 0xb5154bd30>\n",
      "(None, 14, 14, 8)\n",
      "<keras.layers.core.Dropout object at 0xb5154b438>\n",
      "(None, 14, 14, 8)\n",
      "<keras.layers.convolutional.Conv2D object at 0xb5154bd68>\n",
      "(None, 14, 14, 8)\n",
      "<keras.layers.normalization.BatchNormalization object at 0xb5154b0b8>\n",
      "(None, 14, 14, 8)\n",
      "<keras.layers.core.Activation object at 0xb5196f8d0>\n",
      "(None, 14, 14, 8)\n",
      "<keras.layers.pooling.MaxPooling2D object at 0xb51a01dd8>\n",
      "(None, 7, 7, 8)\n",
      "<keras.layers.core.Dropout object at 0xb5196fbe0>\n",
      "(None, 7, 7, 8)\n",
      "<keras.layers.core.Flatten object at 0xb519c1da0>\n",
      "(None, 392)\n",
      "<keras.layers.core.Dense object at 0xb51a2af98>\n",
      "(None, 64)\n",
      "<keras.layers.core.Activation object at 0xb519e4b00>\n",
      "(None, 64)\n",
      "<keras.layers.core.Dense object at 0xb51b096a0>\n",
      "(None, 10)\n",
      "<keras.layers.core.Activation object at 0xb51b09f60>\n",
      "(None, 10)\n"
     ]
    }
   ],
   "source": [
    "# why don't we take a look at the layers and outputs\n",
    "# note: `None` in the first dimension means it can take any batch_size!\n",
    "for i in range(len(model.layers)):\n",
    "    layer = model.layers[i]\n",
    "    print(layer)\n",
    "    print(layer.output_shape)"
   ]
  },
  {
   "cell_type": "code",
   "execution_count": 37,
   "metadata": {},
   "outputs": [
    {
     "data": {
      "text/plain": [
       "26530"
      ]
     },
     "execution_count": 37,
     "metadata": {},
     "output_type": "execute_result"
    }
   ],
   "source": [
    "# our model has some # of parameters:\n",
    "model.count_params()"
   ]
  },
  {
   "cell_type": "code",
   "execution_count": 38,
   "metadata": {},
   "outputs": [],
   "source": [
    "# For a multi-class classification problem\n",
    "model.compile(optimizer='rmsprop',\n",
    "              loss='categorical_crossentropy',\n",
    "              metrics=['accuracy'])"
   ]
  },
  {
   "cell_type": "code",
   "execution_count": 39,
   "metadata": {},
   "outputs": [
    {
     "name": "stdout",
     "output_type": "stream",
     "text": [
      "Train on 60000 samples, validate on 10000 samples\n",
      "Epoch 1/1\n",
      "60000/60000 [==============================] - 43s 709us/step - loss: 0.6373 - acc: 0.7933 - val_loss: 0.1690 - val_acc: 0.9490\n"
     ]
    }
   ],
   "source": [
    "# Train the model, iterating on the data in batches of 32 samples\n",
    "history = model.fit(x_train, y_train, epochs=1, batch_size=32,\n",
    "                    validation_data=(x_test, y_test))"
   ]
  },
  {
   "cell_type": "markdown",
   "metadata": {},
   "source": [
    "Above, we output the training loss/accuracy as well as the validation (here, the TEST) loss and accuracy. To confirm that these are right, we can explicitly print out the training and test losses/accuracies."
   ]
  },
  {
   "cell_type": "code",
   "execution_count": 13,
   "metadata": {},
   "outputs": [
    {
     "data": {
      "text/plain": [
       "['loss', 'acc']"
      ]
     },
     "execution_count": 13,
     "metadata": {},
     "output_type": "execute_result"
    }
   ],
   "source": [
    "# note that our model outputs two eval params:\n",
    "# 1. loss (categorical cross-entropy)\n",
    "# 2. accuracy\n",
    "model.metrics_names"
   ]
  },
  {
   "cell_type": "code",
   "execution_count": 14,
   "metadata": {
    "scrolled": true
   },
   "outputs": [
    {
     "name": "stdout",
     "output_type": "stream",
     "text": [
      "60000/60000 [==============================] - 8s 126us/step\n"
     ]
    },
    {
     "data": {
      "text/plain": [
       "[0.07840761526338756, 0.9780333333333333]"
      ]
     },
     "execution_count": 14,
     "metadata": {},
     "output_type": "execute_result"
    }
   ],
   "source": [
    "model.evaluate(x=x_train, y=y_train)"
   ]
  },
  {
   "cell_type": "code",
   "execution_count": 45,
   "metadata": {},
   "outputs": [
    {
     "name": "stdout",
     "output_type": "stream",
     "text": [
      "10000/10000 [==============================] - 2s 198us/step\n"
     ]
    },
    {
     "data": {
      "text/plain": [
       "[0.029102998485855642, 0.9914]"
      ]
     },
     "execution_count": 45,
     "metadata": {},
     "output_type": "execute_result"
    }
   ],
   "source": [
    "model.evaluate(x=x_test, y=y_test)"
   ]
  },
  {
   "cell_type": "markdown",
   "metadata": {},
   "source": [
    "Not bad! Let's see if you can do better."
   ]
  }
 ],
 "metadata": {
  "kernelspec": {
   "display_name": "Python 3",
   "language": "python",
   "name": "python3"
  },
  "language_info": {
   "codemirror_mode": {
    "name": "ipython",
    "version": 3
   },
   "file_extension": ".py",
   "mimetype": "text/x-python",
   "name": "python",
   "nbconvert_exporter": "python",
   "pygments_lexer": "ipython3",
   "version": "3.6.8"
  }
 },
 "nbformat": 4,
 "nbformat_minor": 1
}
