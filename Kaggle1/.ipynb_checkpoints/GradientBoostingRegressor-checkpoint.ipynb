{
 "cells": [
  {
   "cell_type": "code",
   "execution_count": 23,
   "metadata": {},
   "outputs": [],
   "source": [
    "import csv\n",
    "import numpy as np\n",
    "from sklearn.ensemble import GradientBoostingRegressor\n",
    "from sklearn.metrics import roc_auc_score\n",
    "from sklearn.model_selection import train_test_split"
   ]
  },
  {
   "cell_type": "code",
   "execution_count": 24,
   "metadata": {},
   "outputs": [],
   "source": [
    "def load_data(filename):\n",
    "    return np.loadtxt(open(filename), delimiter=',', skiprows=1)"
   ]
  },
  {
   "cell_type": "code",
   "execution_count": null,
   "metadata": {},
   "outputs": [],
   "source": [
    "def scale_scores(y_score):\n",
    "    max_score, min_score = max(y_score), min(y_score)\n",
    "    return max_score - (max_score - y_score) * (max_score) / (max_score - min_score)"
   ]
  },
  {
   "cell_type": "code",
   "execution_count": 25,
   "metadata": {},
   "outputs": [],
   "source": [
    "# Load training data\n",
    "data = load_data('train_2008.csv')\n",
    "X = data[:, 1:-1]\n",
    "y = data[:, -1]"
   ]
  },
  {
   "cell_type": "code",
   "execution_count": 26,
   "metadata": {},
   "outputs": [],
   "source": [
    "N = len(y) #64667\n",
    "D = len(X[0]) #381\n",
    "\n",
    "# Split to train / test (validation) data\n",
    "X_train, X_test, y_train, y_test = train_test_split(X, y, test_size=0.3)"
   ]
  },
  {
   "cell_type": "code",
   "execution_count": 27,
   "metadata": {},
   "outputs": [],
   "source": [
    "X_sample, y_sample = X_train[:1000], y_train[:1000]"
   ]
  },
  {
   "cell_type": "code",
   "execution_count": 32,
   "metadata": {},
   "outputs": [
    {
     "data": {
      "text/plain": [
       "0.7845358196809709"
      ]
     },
     "execution_count": 32,
     "metadata": {},
     "output_type": "execute_result"
    }
   ],
   "source": [
    "gbr = GradientBoostingRegressor(max_depth=5)\n",
    "gbr.fit(X_train, y_train)\n",
    "y_score = gbr.predict(X_test)\n",
    "roc_auc_score(y_test, y_score)"
   ]
  },
  {
   "cell_type": "code",
   "execution_count": 30,
   "metadata": {},
   "outputs": [
    {
     "name": "stdout",
     "output_type": "stream",
     "text": [
      "min=0 clip: 0.780180597809569\n",
      "shrink 0.7801809672435662\n"
     ]
    }
   ],
   "source": [
    "# min clip\n",
    "y_score1 = y_score.clip(min=0)\n",
    "print('min=0 clip:', roc_auc_score(y_test, y_score1))\n",
    "\n",
    "# normalize (shrink / expand)\n",
    "max_score, min_score = max(y_score), min(y_score)\n",
    "y_score2 = max_score - (max_score - y_score) * (max_score) / (max_score - min_score)\n",
    "print('shrink', roc_auc_score(y_test, y_score2))"
   ]
  },
  {
   "cell_type": "code",
   "execution_count": 12,
   "metadata": {},
   "outputs": [],
   "source": [
    "## For submission:\n",
    "\n",
    "# Train on the entire training data\n",
    "gbr = GradientBoostingRegressor()\n",
    "gbr.fit(X, y)\n",
    "\n",
    "# Load real test data\n",
    "test_data = load_data('test_2008.csv')\n",
    "X_test_real = test_data[:, 1:]\n",
    "\n",
    "# Predict on the actual test data, scale to get rid of negative values\n",
    "y_test_scores = gbr.predict(X_test_real)\n"
   ]
  },
  {
   "cell_type": "code",
   "execution_count": 20,
   "metadata": {},
   "outputs": [],
   "source": [
    "y_test_scores = y_test_scores.clip(min=0)"
   ]
  },
  {
   "cell_type": "code",
   "execution_count": 22,
   "metadata": {},
   "outputs": [],
   "source": [
    "with open ('sub1.csv', 'w') as writeFile:\n",
    "    writer = csv.writer(writeFile)\n",
    "    writer.writerow(['id', 'target'])\n",
    "    for i in range(0, 16000):\n",
    "        writer.writerow([i, y_test_scores[i]])"
   ]
  },
  {
   "cell_type": "code",
   "execution_count": null,
   "metadata": {},
   "outputs": [],
   "source": []
  }
 ],
 "metadata": {
  "kernelspec": {
   "display_name": "Python 3",
   "language": "python",
   "name": "python3"
  },
  "language_info": {
   "codemirror_mode": {
    "name": "ipython",
    "version": 3
   },
   "file_extension": ".py",
   "mimetype": "text/x-python",
   "name": "python",
   "nbconvert_exporter": "python",
   "pygments_lexer": "ipython3",
   "version": "3.7.1"
  }
 },
 "nbformat": 4,
 "nbformat_minor": 2
}
