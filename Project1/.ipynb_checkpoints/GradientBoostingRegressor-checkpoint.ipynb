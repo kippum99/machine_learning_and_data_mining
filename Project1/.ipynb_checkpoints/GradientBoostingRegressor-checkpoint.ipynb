{
 "cells": [
  {
   "cell_type": "code",
   "execution_count": 35,
   "metadata": {},
   "outputs": [],
   "source": [
    "import csv\n",
    "import numpy as np\n",
    "from sklearn.ensemble import GradientBoostingRegressor, RandomForestRegressor\n",
    "from sklearn.linear_model import LogisticRegression\n",
    "from sklearn.metrics import roc_auc_score\n",
    "from sklearn.model_selection import train_test_split, GridSearchCV"
   ]
  },
  {
   "cell_type": "code",
   "execution_count": 3,
   "metadata": {},
   "outputs": [],
   "source": [
    "def load_data(filename):\n",
    "    return np.loadtxt(open(filename), delimiter=',', skiprows=1)"
   ]
  },
  {
   "cell_type": "code",
   "execution_count": 16,
   "metadata": {},
   "outputs": [],
   "source": [
    "def scale_scores(y_score):\n",
    "    max_score, min_score = max(y_score), min(y_score)\n",
    "    min_capped = max_score - (max_score - y_score) * (max_score) / (max_score - min_score)\n",
    "    return min_capped / max_score"
   ]
  },
  {
   "cell_type": "code",
   "execution_count": 5,
   "metadata": {},
   "outputs": [],
   "source": [
    "# Load training data\n",
    "data = load_data('train_2008.csv')\n",
    "X = data[:, 1:-1]\n",
    "y = data[:, -1]"
   ]
  },
  {
   "cell_type": "code",
   "execution_count": 28,
   "metadata": {},
   "outputs": [],
   "source": [
    "N = len(y) #64667\n",
    "D = len(X[0]) #381\n",
    "\n",
    "# Split to train / test (validation) data\n",
    "X_train, X_test, y_train, y_test = train_test_split(X, y, test_size=0.3)"
   ]
  },
  {
   "cell_type": "code",
   "execution_count": 7,
   "metadata": {},
   "outputs": [],
   "source": [
    "X_sample, y_sample = X_train[:1000], y_train[:1000]"
   ]
  },
  {
   "cell_type": "code",
   "execution_count": 34,
   "metadata": {},
   "outputs": [
    {
     "data": {
      "text/plain": [
       "0.7798763085378984"
      ]
     },
     "execution_count": 34,
     "metadata": {},
     "output_type": "execute_result"
    }
   ],
   "source": [
    "gbr = GradientBoostingRegressor(n_estimators=120)\n",
    "gbr.fit(X_train, y_train)\n",
    "y_score = gbr.predict(X_test)\n",
    "roc_auc_score(y_test, y_score)"
   ]
  },
  {
   "cell_type": "code",
   "execution_count": 10,
   "metadata": {},
   "outputs": [],
   "source": [
    "## For submission:\n",
    "\n",
    "# Train on the entire training data\n",
    "gbr = GradientBoostingRegressor(max_depth=5)\n",
    "gbr.fit(X, y)\n",
    "\n",
    "# Load real test data\n",
    "test_data = load_data('test_2008.csv')\n",
    "X_test_real = test_data[:, 1:]\n",
    "\n",
    "# Predict on the actual test data, scale to get rid of negative values\n",
    "y_test_scores = scale_scores(gbr.predict(X_test_real))"
   ]
  },
  {
   "cell_type": "code",
   "execution_count": 23,
   "metadata": {},
   "outputs": [
    {
     "name": "stderr",
     "output_type": "stream",
     "text": [
      "/Users/junekim/anaconda3/lib/python3.7/site-packages/sklearn/linear_model/logistic.py:433: FutureWarning: Default solver will be changed to 'lbfgs' in 0.22. Specify a solver to silence this warning.\n",
      "  FutureWarning)\n"
     ]
    }
   ],
   "source": [
    "# Logistic Regression\n",
    "lgr = LogisticRegression(C = 0.1, penalty = 'l1')\n",
    "lgr.fit(X, y)\n",
    "pred_prob = lgr.predict_proba(X_test_real)\n",
    "y_scores_lgr = pred_prob[:,1]"
   ]
  },
  {
   "cell_type": "code",
   "execution_count": 24,
   "metadata": {},
   "outputs": [],
   "source": [
    "# Random Forest Regression\n",
    "regr = RandomForestRegressor(n_estimators = 100, max_features = 26)\n",
    "regr.fit(X, y)\n",
    "y_score_regr = regr.predict(X_test_real)"
   ]
  },
  {
   "cell_type": "code",
   "execution_count": 25,
   "metadata": {},
   "outputs": [],
   "source": [
    "y_scores_gbr = gbr.predict(X_test_real)\n",
    "y_average = 0.4 * y_scores_gbr + 0.3 * y_scores_lgr + 0.3 * y_score_regr\n",
    "y_test_scores = scale_scores(y_average)"
   ]
  },
  {
   "cell_type": "code",
   "execution_count": 26,
   "metadata": {},
   "outputs": [],
   "source": [
    "with open ('sub3.csv', 'w') as writeFile:\n",
    "    writer = csv.writer(writeFile)\n",
    "    writer.writerow(['id', 'target'])\n",
    "    for i in range(0, 16000):\n",
    "        writer.writerow([i, y_test_scores[i]])"
   ]
  },
  {
   "cell_type": "code",
   "execution_count": null,
   "metadata": {},
   "outputs": [],
   "source": [
    "# Grid search\n",
    "gbr = GradientBoostingRegressor()\n",
    "param_grid={'n_estimators': 50, 100, 150, 200, 400, 800, 1000}\n",
    "gbr = GridSearchCV(estimator=gbr, cv=5,param_grid=param_grid, n_jobs=4)"
   ]
  },
  {
   "cell_type": "code",
   "execution_count": 27,
   "metadata": {},
   "outputs": [
    {
     "name": "stdout",
     "output_type": "stream",
     "text": [
      "[0.26947856 0.11066097 0.15139422 ... 0.19965127 0.04050552 0.2417453 ]\n",
      "[0.28844685 0.09388635 0.15038621 ... 0.16143706 0.07628423 0.30016567]\n",
      "[0.47 0.16 0.09 ... 0.3  0.07 0.29]\n"
     ]
    }
   ],
   "source": [
    "print(y_scores_gbr)\n",
    "print(y_scores_lgr)\n",
    "print(y_score_regr)"
   ]
  },
  {
   "cell_type": "code",
   "execution_count": 38,
   "metadata": {},
   "outputs": [
    {
     "name": "stdout",
     "output_type": "stream",
     "text": [
      "0.7843227687801987\n",
      "{'max_depth': 6}\n"
     ]
    }
   ],
   "source": [
    "gbr = GradientBoostingRegressor()\n",
    "# eliminate n_estimators 500 - 300 ideal\n",
    "# eliminate max_depth 7 - 6 ideal\n",
    "param_grid={'n_estimators': [100, 150, 200, 300], 'max_depth': [4, 5, 6]}\n",
    "\n",
    "gbr = GridSearchCV(estimator=gbr, cv=5, param_grid=param_grid, n_jobs=4)\n",
    "gbr.fit(X_train, y_train)\n",
    "y_score_gbr = gbr.predict(X_test)\n",
    "print(roc_auc_score(y_test, y_score_gbr))\n",
    "print(gbr.best_params_)"
   ]
  },
  {
   "cell_type": "code",
   "execution_count": null,
   "metadata": {},
   "outputs": [],
   "source": []
  }
 ],
 "metadata": {
  "kernelspec": {
   "display_name": "Python 3",
   "language": "python",
   "name": "python3"
  },
  "language_info": {
   "codemirror_mode": {
    "name": "ipython",
    "version": 3
   },
   "file_extension": ".py",
   "mimetype": "text/x-python",
   "name": "python",
   "nbconvert_exporter": "python",
   "pygments_lexer": "ipython3",
   "version": "3.7.1"
  }
 },
 "nbformat": 4,
 "nbformat_minor": 2
}
