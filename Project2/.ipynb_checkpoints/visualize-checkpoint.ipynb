{
 "cells": [
  {
   "cell_type": "code",
   "execution_count": 2,
   "metadata": {},
   "outputs": [],
   "source": [
    "import numpy as np\n",
    "import matplotlib.pyplot as plt\n",
    "import unbiased_utils\n",
    "import biased_utils\n",
    "from helper import parse\n",
    "import pandas as pd\n",
    "from surprise import SVD, evaluate, accuracy, Reader, Dataset"
   ]
  },
  {
   "cell_type": "code",
   "execution_count": 3,
   "metadata": {},
   "outputs": [
    {
     "name": "stdout",
     "output_type": "stream",
     "text": [
      "Factorizing with  943  users,  1682  movies.\n",
      "0.4159032426335317\n"
     ]
    }
   ],
   "source": [
    "# Train model (biased)\n",
    "\n",
    "Y_train = np.loadtxt('data/train.txt').astype(int)\n",
    "Y_test = np.loadtxt('data/test.txt').astype(int)\n",
    "\n",
    "M = max(max(Y_train[:,0]), max(Y_test[:,0])).astype(int) # users\n",
    "N = max(max(Y_train[:,1]), max(Y_test[:,1])).astype(int) # movies\n",
    "print(\"Factorizing with \", M, \" users, \", N, \" movies.\")\n",
    "\n",
    "K = 20\n",
    "reg = 0.1\n",
    "eta = 0.01\n",
    "epsilon = 0.00005\n",
    "\n",
    "U, V, a, b, err = biased_utils.train_model(M, N, K, eta, reg, Y_train, epsilon)\n",
    "print(biased_utils.get_err(U, V, a, b, Y_test))"
   ]
  },
  {
   "cell_type": "code",
   "execution_count": 32,
   "metadata": {},
   "outputs": [],
   "source": [
    "# Train model (SVD)\n",
    "\n",
    "reader = Reader()\n",
    "Y_train = Dataset.load_from_file('data/data.txt', reader)\n",
    "Y_train  = Y_train.build_full_trainset()\n",
    "algo = SVD(n_factors=25, n_epochs=300, biased=False, lr_all = 0.01, reg_all = 0.1)\n",
    "algo.fit(Y_train)\n",
    "\n",
    "# algo.qi is V matrix \n",
    "V = algo.qi.transpose()"
   ]
  },
  {
   "cell_type": "code",
   "execution_count": null,
   "metadata": {},
   "outputs": [],
   "source": [
    "# Project to 2 dimensions\n",
    "A = np.linalg.svd(V)[0]\n",
    "V_proj = np.dot(A[:, :2].transpose(), V)\n",
    "\n",
    "# Rescale dimensions\n",
    "V_proj /= V_proj.std(axis=1).reshape(2, 1)"
   ]
  },
  {
   "cell_type": "code",
   "execution_count": 5,
   "metadata": {},
   "outputs": [],
   "source": [
    "# Find vectors num_ratings and avg_ratings\n",
    "\n",
    "data = np.loadtxt('data/data.txt').astype(int)\n",
    "N = max(data[:,1]).astype(int) # movies\n",
    "num_ratings = np.zeros(N)\n",
    "tot_ratings = np.zeros(N)\n",
    "\n",
    "for row in data:\n",
    "    j = row[1] - 1\n",
    "    y = row[2]\n",
    "    num_ratings[j] += 1\n",
    "    tot_ratings[j] += y\n",
    "    \n",
    "avg_ratings = tot_ratings / num_ratings"
   ]
  },
  {
   "cell_type": "code",
   "execution_count": 6,
   "metadata": {},
   "outputs": [],
   "source": [
    "def make_plot(idx, title):\n",
    "    ''' Takes in indicies of movies to annotate and plots'''\n",
    "    plt.figure(figsize=(15, 12))\n",
    "    plt.scatter(V_proj[0], V_proj[1], s=num_ratings, c=avg_ratings, cmap=plt.get_cmap('RdYlGn'), alpha=0.6)\n",
    "    plt.colorbar().set_label(\"Average rating\")\n",
    "    plt.title(title)\n",
    "    plt.xlabel('Dimension 1')\n",
    "    plt.ylabel('Dimension 2')\n",
    "    for movie_id, title in movies[['Movie Id', 'Movie Title']].values[idx]:\n",
    "        x, y = V_proj[0][movie_id-1], V_proj[1][movie_id-1]\n",
    "        plt.annotate(title, xy=(x, y), horizontalalignment='center', verticalalignment='center', fontsize=8, rotation=0, arrowprops=dict(arrowstyle='-', lw=1, alpha=0.5))\n",
    "    plt.show()"
   ]
  },
  {
   "cell_type": "code",
   "execution_count": 7,
   "metadata": {
    "scrolled": true
   },
   "outputs": [],
   "source": [
    "# Plot visualizations\n",
    "\n",
    "movie_features = [\"Movie Id\", \"Movie Title\", \"Unknown\", \"Action\", \"Adventure\", \"Animation\", \"Childrens\", \"Comedy\", \"Crime\",\n",
    "         \"Documentary\", \"Drama\", \"Fantasy\", \"Film-Noir\", \"Horror\", \"Musical\", \"Mystery\", \"Romance\", \"Sci-Fi\", \n",
    "         \"Thriller\", \"War\", \"Western\"]\n",
    "movies = pd.read_csv('data/movies.txt', delimiter='\\t', header=None, encoding='latin1', names=movie_features)\n",
    "\n",
    "# Movies to annotate\n",
    "chosen_idx = np.array([0, 21, 167, 707, 762, 749, 687, 1013, 1090, 1414])\n",
    "\n",
    "popular_idx = np.argsort(num_ratings)[-10:]\n",
    "best_idx = np.argsort(avg_ratings)[-10:]\n",
    "\n",
    "genre_dict = parse('data/movies.txt')\n",
    "comedy_ids = genre_dict['Comedy']\n",
    "horror_ids = genre_dict['Horror']\n",
    "scifi_ids = genre_dict['Sci-Fi']\n",
    "comedy_idx = np.random.choice(comedy_ids, 10) - 1\n",
    "horror_idx = np.random.choice(horror_ids, 10) - 1\n",
    "scifi_idx = np.random.choice(scifi_ids, 10) - 1"
   ]
  },
  {
   "cell_type": "code",
   "execution_count": 8,
   "metadata": {},
   "outputs": [
    {
     "ename": "NameError",
     "evalue": "name 'V_proj' is not defined",
     "output_type": "error",
     "traceback": [
      "\u001b[0;31m---------------------------------------------------------------------------\u001b[0m",
      "\u001b[0;31mNameError\u001b[0m                                 Traceback (most recent call last)",
      "\u001b[0;32m<ipython-input-8-e45b09d6f696>\u001b[0m in \u001b[0;36m<module>\u001b[0;34m\u001b[0m\n\u001b[0;32m----> 1\u001b[0;31m \u001b[0mmake_plot\u001b[0m\u001b[0;34m(\u001b[0m\u001b[0mchosen_idx\u001b[0m\u001b[0;34m,\u001b[0m \u001b[0;34m'2D projection of 10 chosen movies (method 2)'\u001b[0m\u001b[0;34m)\u001b[0m\u001b[0;34m\u001b[0m\u001b[0;34m\u001b[0m\u001b[0m\n\u001b[0m\u001b[1;32m      2\u001b[0m \u001b[0mmake_plot\u001b[0m\u001b[0;34m(\u001b[0m\u001b[0mpopular_idx\u001b[0m\u001b[0;34m,\u001b[0m \u001b[0;34m'2D projection of 10 most popular movies (method 2)'\u001b[0m\u001b[0;34m)\u001b[0m\u001b[0;34m\u001b[0m\u001b[0;34m\u001b[0m\u001b[0m\n\u001b[1;32m      3\u001b[0m \u001b[0mmake_plot\u001b[0m\u001b[0;34m(\u001b[0m\u001b[0mbest_idx\u001b[0m\u001b[0;34m,\u001b[0m \u001b[0;34m'2D projection of 10 best movies (method 2)'\u001b[0m\u001b[0;34m)\u001b[0m\u001b[0;34m\u001b[0m\u001b[0;34m\u001b[0m\u001b[0m\n\u001b[1;32m      4\u001b[0m \u001b[0mmake_plot\u001b[0m\u001b[0;34m(\u001b[0m\u001b[0mcomedy_idx\u001b[0m\u001b[0;34m,\u001b[0m \u001b[0;34m'2D projection of 10 comedy movies (method 2)'\u001b[0m\u001b[0;34m)\u001b[0m\u001b[0;34m\u001b[0m\u001b[0;34m\u001b[0m\u001b[0m\n\u001b[1;32m      5\u001b[0m \u001b[0mmake_plot\u001b[0m\u001b[0;34m(\u001b[0m\u001b[0mhorror_idx\u001b[0m\u001b[0;34m,\u001b[0m \u001b[0;34m'2D projection of 10 horror movies (method 2)'\u001b[0m\u001b[0;34m)\u001b[0m\u001b[0;34m\u001b[0m\u001b[0;34m\u001b[0m\u001b[0m\n",
      "\u001b[0;32m<ipython-input-6-732ff121f1cf>\u001b[0m in \u001b[0;36mmake_plot\u001b[0;34m(idx, title)\u001b[0m\n\u001b[1;32m      2\u001b[0m     \u001b[0;34m''' Takes in indicies of movies to annotate and plots'''\u001b[0m\u001b[0;34m\u001b[0m\u001b[0;34m\u001b[0m\u001b[0m\n\u001b[1;32m      3\u001b[0m     \u001b[0mplt\u001b[0m\u001b[0;34m.\u001b[0m\u001b[0mfigure\u001b[0m\u001b[0;34m(\u001b[0m\u001b[0mfigsize\u001b[0m\u001b[0;34m=\u001b[0m\u001b[0;34m(\u001b[0m\u001b[0;36m15\u001b[0m\u001b[0;34m,\u001b[0m \u001b[0;36m12\u001b[0m\u001b[0;34m)\u001b[0m\u001b[0;34m)\u001b[0m\u001b[0;34m\u001b[0m\u001b[0;34m\u001b[0m\u001b[0m\n\u001b[0;32m----> 4\u001b[0;31m     \u001b[0mplt\u001b[0m\u001b[0;34m.\u001b[0m\u001b[0mscatter\u001b[0m\u001b[0;34m(\u001b[0m\u001b[0mV_proj\u001b[0m\u001b[0;34m[\u001b[0m\u001b[0;36m0\u001b[0m\u001b[0;34m]\u001b[0m\u001b[0;34m,\u001b[0m \u001b[0mV_proj\u001b[0m\u001b[0;34m[\u001b[0m\u001b[0;36m1\u001b[0m\u001b[0;34m]\u001b[0m\u001b[0;34m,\u001b[0m \u001b[0ms\u001b[0m\u001b[0;34m=\u001b[0m\u001b[0mnum_ratings\u001b[0m\u001b[0;34m,\u001b[0m \u001b[0mc\u001b[0m\u001b[0;34m=\u001b[0m\u001b[0mavg_ratings\u001b[0m\u001b[0;34m,\u001b[0m \u001b[0mcmap\u001b[0m\u001b[0;34m=\u001b[0m\u001b[0mplt\u001b[0m\u001b[0;34m.\u001b[0m\u001b[0mget_cmap\u001b[0m\u001b[0;34m(\u001b[0m\u001b[0;34m'RdYlGn'\u001b[0m\u001b[0;34m)\u001b[0m\u001b[0;34m,\u001b[0m \u001b[0malpha\u001b[0m\u001b[0;34m=\u001b[0m\u001b[0;36m0.6\u001b[0m\u001b[0;34m)\u001b[0m\u001b[0;34m\u001b[0m\u001b[0;34m\u001b[0m\u001b[0m\n\u001b[0m\u001b[1;32m      5\u001b[0m     \u001b[0mplt\u001b[0m\u001b[0;34m.\u001b[0m\u001b[0mcolorbar\u001b[0m\u001b[0;34m(\u001b[0m\u001b[0;34m)\u001b[0m\u001b[0;34m.\u001b[0m\u001b[0mset_label\u001b[0m\u001b[0;34m(\u001b[0m\u001b[0;34m\"Average rating\"\u001b[0m\u001b[0;34m)\u001b[0m\u001b[0;34m\u001b[0m\u001b[0;34m\u001b[0m\u001b[0m\n\u001b[1;32m      6\u001b[0m     \u001b[0mplt\u001b[0m\u001b[0;34m.\u001b[0m\u001b[0mtitle\u001b[0m\u001b[0;34m(\u001b[0m\u001b[0mtitle\u001b[0m\u001b[0;34m)\u001b[0m\u001b[0;34m\u001b[0m\u001b[0;34m\u001b[0m\u001b[0m\n",
      "\u001b[0;31mNameError\u001b[0m: name 'V_proj' is not defined"
     ]
    },
    {
     "data": {
      "text/plain": [
       "<Figure size 1080x864 with 0 Axes>"
      ]
     },
     "metadata": {},
     "output_type": "display_data"
    }
   ],
   "source": [
    "make_plot(chosen_idx, '2D projection of 10 chosen movies (method 2)')\n",
    "make_plot(popular_idx, '2D projection of 10 most popular movies (method 2)')\n",
    "make_plot(best_idx, '2D projection of 10 best movies (method 2)')\n",
    "make_plot(comedy_idx, '2D projection of 10 comedy movies (method 2)')\n",
    "make_plot(horror_idx, '2D projection of 10 horror movies (method 2)')\n",
    "make_plot(scifi_idx, '2D projection of 10 sci-fi Movies (method 2)')"
   ]
  },
  {
   "cell_type": "code",
   "execution_count": null,
   "metadata": {},
   "outputs": [],
   "source": []
  }
 ],
 "metadata": {
  "kernelspec": {
   "display_name": "Python 3",
   "language": "python",
   "name": "python3"
  },
  "language_info": {
   "codemirror_mode": {
    "name": "ipython",
    "version": 3
   },
   "file_extension": ".py",
   "mimetype": "text/x-python",
   "name": "python",
   "nbconvert_exporter": "python",
   "pygments_lexer": "ipython3",
   "version": "3.7.1"
  }
 },
 "nbformat": 4,
 "nbformat_minor": 2
}
