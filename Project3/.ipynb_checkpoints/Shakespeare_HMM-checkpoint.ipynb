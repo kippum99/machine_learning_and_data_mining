{
 "cells": [
  {
   "cell_type": "code",
   "execution_count": 1,
   "metadata": {},
   "outputs": [],
   "source": [
    "import random\n",
    "import re\n",
    "import os\n",
    "from HMM import unsupervised_HMM\n",
    "from punctuation_dict import get_punctuation_dict\n",
    "from syllable_dict import get_syllable_dict"
   ]
  },
  {
   "cell_type": "code",
   "execution_count": 2,
   "metadata": {},
   "outputs": [],
   "source": [
    "text = open(os.path.join(os.getcwd(), 'data/shakespeare.txt')).read()"
   ]
  },
  {
   "cell_type": "code",
   "execution_count": 3,
   "metadata": {},
   "outputs": [],
   "source": [
    "def parse_observations(text):\n",
    "    # Convert text to dataset.\n",
    "    lines = [line.split() for line in text.split('\\n') if line.split()]\n",
    "\n",
    "    # Store a list of words to keep capitalized\n",
    "    cap_words = [\"i'll\", 'i', 'o']\n",
    "    punc_dict = get_punctuation_dict()\n",
    "    \n",
    "    obs_counter = 0\n",
    "    obs = []\n",
    "    obs_map = {}\n",
    "\n",
    "    # Iterate through all the lines of poems\n",
    "    for line in lines:\n",
    "        # Skip line with poem id (not an actual line of poem)\n",
    "        if len(line) == 1:\n",
    "            continue\n",
    "\n",
    "        obs_elem = []\n",
    "        \n",
    "        for word in line:\n",
    "            # Convert to lowercase and remove punctuations not part of a word\n",
    "            word = punc_dict[re.sub(r'[^\\w]', '', word.lower())]\n",
    "            \n",
    "            # Keep certain words capitalized\n",
    "            if word in cap_words:\n",
    "                word = word.capitalize()\n",
    "            \n",
    "            if word not in obs_map:\n",
    "                # Add unique words to the observations map.\n",
    "                obs_map[word] = obs_counter\n",
    "                obs_counter += 1\n",
    "            \n",
    "            # Add the encoded word.\n",
    "            obs_elem.append(obs_map[word])\n",
    "        \n",
    "        # Add the encoded sequence.\n",
    "        obs.append(obs_elem)\n",
    "\n",
    "    return obs, obs_map"
   ]
  },
  {
   "cell_type": "code",
   "execution_count": 4,
   "metadata": {},
   "outputs": [],
   "source": [
    "obs, obs_map = parse_observations(text)\n",
    "syl_dict = get_syllable_dict()"
   ]
  },
  {
   "cell_type": "code",
   "execution_count": 5,
   "metadata": {},
   "outputs": [
    {
     "name": "stdout",
     "output_type": "stream",
     "text": [
      "1\n"
     ]
    }
   ],
   "source": [
    "hmm = unsupervised_HMM(obs, 1, 1)"
   ]
  },
  {
   "cell_type": "code",
   "execution_count": 8,
   "metadata": {},
   "outputs": [],
   "source": [
    "def obs_map_reverser(obs_map):\n",
    "    obs_map_r = {}\n",
    "\n",
    "    for key in obs_map:\n",
    "        obs_map_r[obs_map[key]] = key\n",
    "\n",
    "    return obs_map_r\n",
    "\n",
    "def sample_sentence(hmm, obs_map, n_syl=10):\n",
    "    # Get reverse map.\n",
    "    obs_map_r = obs_map_reverser(obs_map)\n",
    "\n",
    "    # Sample and convert sentence.\n",
    "    emission, states = hmm.generate_emission(n_syl, obs_map_r, syl_dict)\n",
    "    sentence = [obs_map_r[i] for i in emission]\n",
    "\n",
    "    return ' '.join(sentence).capitalize()\n",
    "\n",
    "def generate_poem(hmm, obs_map):\n",
    "    for i in range(14):\n",
    "        print(sample_sentence(hmm, obs_map))"
   ]
  },
  {
   "cell_type": "code",
   "execution_count": 9,
   "metadata": {},
   "outputs": [
    {
     "name": "stdout",
     "output_type": "stream",
     "text": [
      "Report unperfect verse thou a her as\n",
      "Me but me than farthest soul mend chiding\n",
      "Age alack doting found although your i\n",
      "His doth need them despised show can more\n",
      "Love thought one do in tract him but blind sits\n",
      "That when that live their thy am purge date is\n",
      "Beauty's cannot beauty love power say gift\n",
      "With all write first beauty pride it do whom\n",
      "Love it for eye not looks have gentle i\n",
      "To sweet not that latch they my happy store\n",
      "Beauty's forth of always now where plot then\n",
      "Thou for all faring limbs miscalled learned raised\n",
      "One speed admiring aspect that verse in\n",
      "Welfare physic a assured famished\n"
     ]
    }
   ],
   "source": [
    "generate_poem(hmm, obs_map)"
   ]
  },
  {
   "cell_type": "code",
   "execution_count": null,
   "metadata": {},
   "outputs": [],
   "source": []
  }
 ],
 "metadata": {
  "kernelspec": {
   "display_name": "Python 3",
   "language": "python",
   "name": "python3"
  },
  "language_info": {
   "codemirror_mode": {
    "name": "ipython",
    "version": 3
   },
   "file_extension": ".py",
   "mimetype": "text/x-python",
   "name": "python",
   "nbconvert_exporter": "python",
   "pygments_lexer": "ipython3",
   "version": "3.7.1"
  }
 },
 "nbformat": 4,
 "nbformat_minor": 2
}
