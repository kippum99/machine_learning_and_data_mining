{
 "cells": [
  {
   "cell_type": "code",
   "execution_count": 9,
   "metadata": {},
   "outputs": [],
   "source": [
    "import os\n",
    "import random"
   ]
  },
  {
   "cell_type": "code",
   "execution_count": 8,
   "metadata": {},
   "outputs": [
    {
     "name": "stdout",
     "output_type": "stream",
     "text": [
      "[[0.753495217071376, 0.0029433406916850625, 0.03826342899190582, 0.01545253863134658, 0.03016924208977189, 0.0051508462104488595, 0.1545253863134658], [0.12141280353200883, 0.5121412803532008, 0.2163355408388521, 0.013245033112582781, 0.10154525386313466, 0.026490066225165563, 0.008830022075055188], [0.8874172185430463, 0.006622516556291391, 0.013245033112582781, 0.0, 0.006622516556291391, 0.0, 0.08609271523178808], [0.0, 0.9933774834437086, 0.0, 0.0, 0.0, 0.0, 0.006622516556291391]]\n"
     ]
    }
   ],
   "source": [
    "text = open(os.path.join(os.getcwd(), 'data/shakespeare.txt')).read()\n",
    "\n",
    "# Build a probability table for punctuations\n",
    "\n",
    "lines = [line.split() for line in text.split('\\n') if line.split()]\n",
    "sonnets = []\n",
    "sonnet = []\n",
    "for line in lines:\n",
    "    if len(line) == 1:\n",
    "        # Only store sonnets with 14 lines\n",
    "        if len(sonnet) == 14:\n",
    "            sonnets.append(sonnet)\n",
    "        sonnet = []\n",
    "        continue\n",
    "    sonnet.append(line)\n",
    "\n",
    "# P (punc | location in poem)\n",
    "# punc_probs[i][j] returns P (punc = j | loc = i)\n",
    "punc_probs = [[0 for c in range(7)] for r in range(4)]\n",
    "\n",
    "puncs = [',', '.', ':', ';', '?', '!']\n",
    "loc1 = [0, 1, 2, 4, 5, 6, 8, 9, 10] # 1st-3rd lines of 1st-3rd stanzas\n",
    "loc2 = [3, 7, 11] # 4th line of 1st-3rd stanzas\n",
    "\n",
    "for sonnet in sonnets:\n",
    "    for i in range(14):\n",
    "        punc = sonnet[i][-1].strip(\"'\").strip(')')[-1]\n",
    "        if punc in puncs:\n",
    "            punc_index = puncs.index(punc)\n",
    "        # No punctuation\n",
    "        else:\n",
    "            punc_index = 6\n",
    "        if i in loc1:\n",
    "            punc_probs[0][punc_index] += 1\n",
    "        elif i in loc2:\n",
    "            punc_probs[1][punc_index] += 1\n",
    "        elif i == 12:\n",
    "            punc_probs[2][punc_index] += 1\n",
    "        elif i == 13:\n",
    "            punc_probs[3][punc_index] += 1\n",
    "            \n",
    "# Convert freq to prob\n",
    "for loc in range(4):\n",
    "    sum_probs = sum(punc_probs[loc])\n",
    "    punc_probs[loc] = [prob / sum_probs for prob in punc_probs[loc]]"
   ]
  },
  {
   "cell_type": "code",
   "execution_count": 10,
   "metadata": {},
   "outputs": [],
   "source": [
    "# Sample punctuation\n",
    "\n",
    "def get_punc(loc):\n",
    "    probs = punc_probs[loc]\n",
    "    rand_var = random.uniform(0, 1)\n",
    "    next_punc = 0\n",
    "    while rand_var > 0:\n",
    "        rand_var -= probs[next_punc]\n",
    "        next_punc += 1\n",
    "    punc = next_punc - 1\n",
    "    if punc == 6:\n",
    "        return ''\n",
    "    else:\n",
    "        return puncs[punc]"
   ]
  }
 ],
 "metadata": {
  "kernelspec": {
   "display_name": "Python 3",
   "language": "python",
   "name": "python3"
  },
  "language_info": {
   "codemirror_mode": {
    "name": "ipython",
    "version": 3
   },
   "file_extension": ".py",
   "mimetype": "text/x-python",
   "name": "python",
   "nbconvert_exporter": "python",
   "pygments_lexer": "ipython3",
   "version": "3.7.1"
  }
 },
 "nbformat": 4,
 "nbformat_minor": 2
}
