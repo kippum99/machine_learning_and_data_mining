{
 "cells": [
  {
   "cell_type": "code",
   "execution_count": 1,
   "metadata": {},
   "outputs": [],
   "source": [
    "import csv\n",
    "import matplotlib.pyplot as plt\n",
    "import numpy as np\n",
    "from sklearn.ensemble import GradientBoostingRegressor, RandomForestRegressor\n",
    "from sklearn.metrics import mean_squared_error\n",
    "from sklearn.model_selection import train_test_split, cross_validate"
   ]
  },
  {
   "cell_type": "code",
   "execution_count": 2,
   "metadata": {},
   "outputs": [],
   "source": [
    "X = np.loadtxt(open('data/X_train.csv', 'rb'), delimiter=',', skiprows=1)\n",
    "y = np.loadtxt(open('data/y_train.csv', 'rb'), delimiter=',', skiprows=1)\n",
    "\n",
    "# Number of datapoints N, input features D\n",
    "N = len(X)\n",
    "D = len(X[0])"
   ]
  },
  {
   "cell_type": "code",
   "execution_count": 3,
   "metadata": {},
   "outputs": [],
   "source": [
    "# entering_host one-hot encoding vector of length 81\n",
    "entering_host_vectors = np.zeros(shape=(N, 81))\n",
    "\n",
    "# Map ids to indices\n",
    "entering_host_ids = []\n",
    "\n",
    "for i in range(N):\n",
    "    host_id = X[i][16]\n",
    "    if host_id not in entering_host_ids:\n",
    "        entering_host_ids.append(host_id)\n",
    "    entering_host_vectors[i][entering_host_ids.index(host_id)] = 1"
   ]
  },
  {
   "cell_type": "code",
   "execution_count": 4,
   "metadata": {},
   "outputs": [],
   "source": [
    "# summoning_host one-hot encoding vector of length 85\n",
    "summoning_host_vectors = np.zeros(shape=(N, 85))\n",
    "\n",
    "# Map ids to indices\n",
    "summoning_host_ids = []\n",
    "\n",
    "for i in range(N):\n",
    "    host_id = X[i][25]\n",
    "    if host_id not in summoning_host_ids:\n",
    "        summoning_host_ids.append(host_id)\n",
    "    summoning_host_vectors[i][summoning_host_ids.index(host_id)] = 1"
   ]
  },
  {
   "cell_type": "code",
   "execution_count": 5,
   "metadata": {},
   "outputs": [],
   "source": [
    "# Delete unnecessary cols (same vals, missing vals, one-hot encoded)\n",
    "X = np.delete(X, [0, 1, 2, 5, 6, 14, 16, 23, 25], axis=1)\n",
    "X = np.append(np.append(X, entering_host_vectors, axis=1), summoning_host_vectors, axis=1)"
   ]
  },
  {
   "cell_type": "code",
   "execution_count": 6,
   "metadata": {},
   "outputs": [],
   "source": [
    "# Replace missing values with medians\n",
    "\n",
    "def replace_missing(col_idx):\n",
    "    col = X[:, col_idx]\n",
    "    med = np.median(col[np.where(col != -1)])\n",
    "    X[:, col_idx] = np.where(col == -1, med, col)\n",
    "    \n",
    "replace_missing(7)\n",
    "replace_missing(15)"
   ]
  },
  {
   "cell_type": "code",
   "execution_count": 25,
   "metadata": {},
   "outputs": [],
   "source": [
    "X_train, X_test, y_train, y_test = train_test_split(X, y, test_size=0.2)\n",
    "\n",
    "# Normalize y_train for each queue type\n",
    "\n",
    "y_split = [[] for _ in range(5)]\n",
    "\n",
    "N = len(X_train)\n",
    "\n",
    "for i in range(N):\n",
    "    for j in range(2, 7):\n",
    "        if X_train[i][j] == 1:\n",
    "            y_split[j-2].append(y_train[i])\n",
    "            break\n",
    "\n",
    "means = [0 for _ in range(5)]\n",
    "stds = [0 for _ in range(5)]\n",
    "\n",
    "for q in range(5):\n",
    "    y_q = y_split[q]\n",
    "    means[q] = np.mean(y_q)\n",
    "    stds[q] = np.std(y_q)\n",
    "\n",
    "for i in range(N):\n",
    "    for j in range(2, 7):\n",
    "        if X_train[i][j] == 1:\n",
    "            y_train[i] = (y_train[i] - means[j-2]) / stds[j-2]\n",
    "            break"
   ]
  },
  {
   "cell_type": "code",
   "execution_count": 7,
   "metadata": {},
   "outputs": [],
   "source": [
    "def fit_predict(X_train, y_train, X_test):\n",
    "    gbr = GradientBoostingRegressor()\n",
    "    gbr.fit(X_train, y_train)\n",
    "    y_pred = gbr.predict(X_test)\n",
    "    return y_pred\n",
    "\n",
    "def fit_predict_rf(X_train, y_train, X_test):\n",
    "    rf = RandomForestRegressor()\n",
    "    rf.fit(X_train, y_train)\n",
    "    y_pred = rf.predict(X_test)\n",
    "    return y_pred"
   ]
  },
  {
   "cell_type": "code",
   "execution_count": 27,
   "metadata": {},
   "outputs": [
    {
     "name": "stderr",
     "output_type": "stream",
     "text": [
      "/Users/junekim/anaconda3/lib/python3.7/site-packages/sklearn/ensemble/forest.py:246: FutureWarning: The default value of n_estimators will change from 10 in version 0.20 to 100 in 0.22.\n",
      "  \"10 in version 0.20 to 100 in 0.22.\", FutureWarning)\n"
     ]
    }
   ],
   "source": [
    "y_pred = fit_predict(X_train, y_train, X_test)\n",
    "y_pred_rf = fit_predict_rf(X_train, y_train, X_test)"
   ]
  },
  {
   "cell_type": "code",
   "execution_count": 28,
   "metadata": {},
   "outputs": [],
   "source": [
    "# Unnormalize y_pred (scale back to original)\n",
    "\n",
    "N = len(y_pred)\n",
    "\n",
    "for i in range(N):\n",
    "    for j in range(2, 7):\n",
    "        if X_test[i][j] == 1:\n",
    "            y_pred[i] = y_pred[i] * stds[j-2] + means[j-2]\n",
    "            y_pred_rf[i] = y_pred_rf[i] * stds[j-2] + means[j-2]\n",
    "            break"
   ]
  },
  {
   "cell_type": "code",
   "execution_count": 29,
   "metadata": {},
   "outputs": [
    {
     "data": {
      "text/plain": [
       "1562.3317933434073"
      ]
     },
     "execution_count": 29,
     "metadata": {},
     "output_type": "execute_result"
    }
   ],
   "source": [
    "mean_squared_error(y_test, y_pred)"
   ]
  },
  {
   "cell_type": "code",
   "execution_count": 30,
   "metadata": {},
   "outputs": [
    {
     "data": {
      "text/plain": [
       "1195.0462731428913"
      ]
     },
     "execution_count": 30,
     "metadata": {},
     "output_type": "execute_result"
    }
   ],
   "source": [
    "mean_squared_error(y_test, y_pred_rf)"
   ]
  },
  {
   "cell_type": "code",
   "execution_count": 31,
   "metadata": {},
   "outputs": [
    {
     "data": {
      "text/plain": [
       "1301.6930683794478"
      ]
     },
     "execution_count": 31,
     "metadata": {},
     "output_type": "execute_result"
    }
   ],
   "source": [
    "y_pred_avg = 0.7 * np.array(y_pred) + 0.3 * np.array(y_pred_rf)\n",
    "mean_squared_error(y_test, y_pred_avg)"
   ]
  },
  {
   "cell_type": "code",
   "execution_count": 8,
   "metadata": {},
   "outputs": [
    {
     "name": "stderr",
     "output_type": "stream",
     "text": [
      "/Users/junekim/anaconda3/lib/python3.7/site-packages/sklearn/ensemble/forest.py:246: FutureWarning: The default value of n_estimators will change from 10 in version 0.20 to 100 in 0.22.\n",
      "  \"10 in version 0.20 to 100 in 0.22.\", FutureWarning)\n"
     ]
    }
   ],
   "source": [
    "# For submission\n",
    "\n",
    "# Normalize y for each queue type\n",
    "\n",
    "y_split = [[] for _ in range(5)]\n",
    "\n",
    "N = len(X)\n",
    "\n",
    "for i in range(N):\n",
    "    for j in range(2, 7):\n",
    "        if X[i][j] == 1:\n",
    "            y_split[j-2].append(y[i])\n",
    "            break\n",
    "\n",
    "means = [0 for _ in range(5)]\n",
    "stds = [0 for _ in range(5)]\n",
    "\n",
    "for q in range(5):\n",
    "    y_q = y_split[q]\n",
    "    means[q] = np.mean(y_q)\n",
    "    stds[q] = np.std(y_q)\n",
    "\n",
    "for i in range(N):\n",
    "    for j in range(2, 7):\n",
    "        if X[i][j] == 1:\n",
    "            y[i] = (y[i] - means[j-2]) / stds[j-2]\n",
    "            break\n",
    "            \n",
    "            \n",
    "X_test_real = np.loadtxt(open('data/X_test.csv', 'rb'), delimiter=',', skiprows=1)\n",
    "N = len(X_test_real)\n",
    "\n",
    "# entering_host one-hot encoding vector of length 81\n",
    "entering_host_vectors = np.zeros(shape=(N, 81))\n",
    "\n",
    "for i in range(len(X_test_real)):\n",
    "    host_id = X_test_real[i][16]\n",
    "    if host_id not in entering_host_ids:\n",
    "        break\n",
    "    entering_host_vectors[i][entering_host_ids.index(host_id)] = 1\n",
    "\n",
    "    \n",
    "# summoning_host one-hot encoding vector of length 85\n",
    "summoning_host_vectors = np.zeros(shape=(N, 85))\n",
    "\n",
    "for i in range(len(X_test_real)):\n",
    "    host_id = X_test_real[i][25]\n",
    "    if host_id not in summoning_host_ids:\n",
    "        break\n",
    "    summoning_host_vectors[i][summoning_host_ids.index(host_id)] = 1\n",
    "    \n",
    "    \n",
    "# Delete unnecessary cols (same vals, missing vals, one-hot encoded)\n",
    "X_test_real = np.delete(X_test_real, [0, 1, 2, 5, 6, 14, 16, 23, 25], axis=1)\n",
    "X_test_real = np.append(np.append(X_test_real, entering_host_vectors, axis=1), summoning_host_vectors, axis=1)\n",
    "\n",
    "\n",
    "# Replace missing values with medians\n",
    "\n",
    "def replace_missing(col_idx):\n",
    "    col = X_test_real[:, col_idx]\n",
    "    med = np.median(col[np.where(col != -1)])\n",
    "    X_test_real[:, col_idx] = np.where(col == -1, med, col)\n",
    "    \n",
    "replace_missing(7)\n",
    "replace_missing(15)\n",
    "    \n",
    "    \n",
    "# Train and predict\n",
    "\n",
    "y_pred = fit_predict(X, y, X_test_real)\n",
    "y_pred_rf = fit_predict_rf(X, y, X_test_real)\n",
    "\n",
    "\n",
    "# Unnormalize y_pred (scale back to original)\n",
    "\n",
    "N = len(y_pred)\n",
    "\n",
    "for i in range(N):\n",
    "    for j in range(2, 7):\n",
    "        if X_test_real[i][j] == 1:\n",
    "            y_pred[i] = y_pred[i] * stds[j-2] + means[j-2]\n",
    "            y_pred_rf[i] = y_pred_rf[i] * stds[j-2] + means[j-2]\n",
    "            break"
   ]
  },
  {
   "cell_type": "code",
   "execution_count": 9,
   "metadata": {},
   "outputs": [],
   "source": [
    "y_pred_avg = 0.7 * np.array(y_pred) + 0.3 * np.array(y_pred_rf)"
   ]
  },
  {
   "cell_type": "code",
   "execution_count": 13,
   "metadata": {},
   "outputs": [],
   "source": [
    "with open('submissions/sub5.csv', 'w') as writeFile:\n",
    "    writer = csv.writer(writeFile)\n",
    "    writer.writerow(['id', 'actual_wait div 60000'])\n",
    "    for i in range(len(y_pred_avg)):\n",
    "        writer.writerow([i, y_pred_avg[i]])"
   ]
  },
  {
   "cell_type": "code",
   "execution_count": 10,
   "metadata": {},
   "outputs": [
    {
     "data": {
      "text/plain": [
       "array([33.5134111 , 20.3797707 , 40.80784683, ..., 18.4664022 ,\n",
       "       18.5564022 , 17.87935424])"
      ]
     },
     "execution_count": 10,
     "metadata": {},
     "output_type": "execute_result"
    }
   ],
   "source": [
    "y_pred_avg"
   ]
  },
  {
   "cell_type": "code",
   "execution_count": null,
   "metadata": {},
   "outputs": [],
   "source": []
  }
 ],
 "metadata": {
  "kernelspec": {
   "display_name": "Python 3",
   "language": "python",
   "name": "python3"
  },
  "language_info": {
   "codemirror_mode": {
    "name": "ipython",
    "version": 3
   },
   "file_extension": ".py",
   "mimetype": "text/x-python",
   "name": "python",
   "nbconvert_exporter": "python",
   "pygments_lexer": "ipython3",
   "version": "3.7.1"
  }
 },
 "nbformat": 4,
 "nbformat_minor": 2
}
