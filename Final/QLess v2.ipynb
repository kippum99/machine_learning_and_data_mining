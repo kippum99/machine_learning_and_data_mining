{
 "cells": [
  {
   "cell_type": "code",
   "execution_count": 1,
   "metadata": {},
   "outputs": [],
   "source": [
    "import csv\n",
    "import matplotlib.pyplot as plt\n",
    "import numpy as np\n",
    "from sklearn.ensemble import GradientBoostingRegressor, RandomForestRegressor\n",
    "from sklearn.metrics import mean_squared_error\n",
    "from sklearn.model_selection import train_test_split"
   ]
  },
  {
   "cell_type": "code",
   "execution_count": 2,
   "metadata": {},
   "outputs": [],
   "source": [
    "X = np.loadtxt(open('data/X_train.csv', 'rb'), delimiter=',', skiprows=1)\n",
    "y = np.loadtxt(open('data/y_train.csv', 'rb'), delimiter=',', skiprows=1)\n",
    "\n",
    "# Number of datapoints N, input features D\n",
    "N = len(X)\n",
    "D = len(X[0])"
   ]
  },
  {
   "cell_type": "code",
   "execution_count": 3,
   "metadata": {},
   "outputs": [],
   "source": [
    "def clean_data(X, y):\n",
    "    N = len(X)\n",
    "    D = len(X[0])\n",
    "    \n",
    "    # entering_host one-hot encoding vector of length 81\n",
    "    entering_host_vectors = np.zeros(shape=(N, 81))\n",
    "\n",
    "    # Map ids to indices\n",
    "    entering_host_ids = []\n",
    "\n",
    "    for i in range(N):\n",
    "        host_id = X[i][16]\n",
    "        if host_id not in entering_host_ids:\n",
    "            entering_host_ids.append(host_id)\n",
    "        entering_host_vectors[i][entering_host_ids.index(host_id)] = 1\n",
    "        \n",
    "    # summoning_host one-hot encoding vector of length 85\n",
    "    summoning_host_vectors = np.zeros(shape=(N, 85))\n",
    "\n",
    "    # Map ids to indices\n",
    "    summoning_host_ids = []\n",
    "\n",
    "    for i in range(N):\n",
    "        host_id = X[i][25]\n",
    "        if host_id not in summoning_host_ids:\n",
    "            summoning_host_ids.append(host_id)\n",
    "        summoning_host_vectors[i][summoning_host_ids.index(host_id)] = 1\n",
    "        \n",
    "    # Delete unnecessary cols (same vals, missing vals, one-hot encoded)\n",
    "    X = np.delete(X, [0, 1, 2, 5, 6, 14, 16, 23, 25], axis=1)\n",
    "    X = np.append(np.append(X, entering_host_vectors, axis=1), summoning_host_vectors, axis=1)\n",
    "    \n",
    "    # Split different queue types\n",
    "    X_split = [[] for _ in range(5)]\n",
    "    y_split = [[] for _ in range(5)]\n",
    "\n",
    "    for i in range(N):\n",
    "        for j in range(2, 7):\n",
    "            if X[i][j] == 1:\n",
    "                X_split[j-2].append(X[i])\n",
    "                y_split[j-2].append(y[i])\n",
    "                break\n",
    "\n",
    "    for i in range(5):\n",
    "        X_split[i] = np.array(X_split[i])\n",
    "        y_split[i] = np.array(y_split[i])\n",
    "        \n",
    "    # Replace missing values with medians\n",
    "\n",
    "    # q: queue type idx\n",
    "    def replace_missing(q, col_idx):\n",
    "        X_q = X_split[q]\n",
    "        col = X_q[:, col_idx]\n",
    "        med = np.median(col[np.where(col != -1)])\n",
    "        X_q[:, col_idx] = np.where(col == -1, med, col)\n",
    "\n",
    "    for q in range(5):\n",
    "        replace_missing(q, 7)\n",
    "        replace_missing(q, 15)\n",
    "        \n",
    "    return X_split, y_split"
   ]
  },
  {
   "cell_type": "code",
   "execution_count": 4,
   "metadata": {},
   "outputs": [],
   "source": [
    "def fit_predict(X_train, y_train, X_test):\n",
    "    gbr = GradientBoostingRegressor()\n",
    "    gbr.fit(X_train, y_train)\n",
    "    y_pred = gbr.predict(X_test)\n",
    "    return y_pred\n",
    "\n",
    "def fit_predict_rf(X_train, y_train, X_test):\n",
    "    rf = RandomForestRegressor()\n",
    "    rf.fit(X_train, y_train)\n",
    "    y_pred = rf.predict(X_test)\n",
    "    return y_pred"
   ]
  },
  {
   "cell_type": "code",
   "execution_count": null,
   "metadata": {},
   "outputs": [],
   "source": [
    "# For submission:\n",
    "\n",
    "X_split, y_split = clean_data(X, y)\n",
    "\n",
    "X_test_real = np.loadtxt(open('data/X_test.csv', 'rb'), delimiter=',', skiprows=1)\n",
    "X_test_real_split, _ = clean_data(X_test_real, X_test_real[:, 0])\n",
    "\n",
    "y_test_combined = []\n",
    "y_pred_combined = []\n",
    "y_pred_rf_combined = []\n",
    "\n",
    "for q in range(5):\n",
    "    X_train, y_train = X_split[q], y_split[q]\n",
    "    X_test = X_test_real_split[q]\n",
    "    X_train, X_test, y_train, y_test = train_test_split(X_q, y_q, test_size=0.3)\n",
    "    y_pred = fit_predict(X_train, y_train, X_test)\n",
    "    y_pred_rf = fit_predict_rf(X_train, y_train, X_test)\n",
    "    y_test_combined += list(y_test)\n",
    "    y_pred_combined += list(y_pred)\n",
    "    y_pred_rf_combined += list(y_pred_rf)"
   ]
  },
  {
   "cell_type": "code",
   "execution_count": null,
   "metadata": {},
   "outputs": [],
   "source": []
  }
 ],
 "metadata": {
  "kernelspec": {
   "display_name": "Python 3",
   "language": "python",
   "name": "python3"
  },
  "language_info": {
   "codemirror_mode": {
    "name": "ipython",
    "version": 3
   },
   "file_extension": ".py",
   "mimetype": "text/x-python",
   "name": "python",
   "nbconvert_exporter": "python",
   "pygments_lexer": "ipython3",
   "version": "3.7.1"
  }
 },
 "nbformat": 4,
 "nbformat_minor": 2
}
